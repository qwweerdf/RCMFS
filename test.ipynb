{
 "cells": [
  {
   "cell_type": "code",
   "execution_count": 3,
   "metadata": {
    "collapsed": true
   },
   "outputs": [
    {
     "ename": "ModuleNotFoundError",
     "evalue": "No module named 'docx'",
     "output_type": "error",
     "traceback": [
      "\u001B[0;31m---------------------------------------------------------------------------\u001B[0m",
      "\u001B[0;31mModuleNotFoundError\u001B[0m                       Traceback (most recent call last)",
      "Cell \u001B[0;32mIn[3], line 2\u001B[0m\n\u001B[1;32m      1\u001B[0m \u001B[38;5;28;01mfrom\u001B[39;00m \u001B[38;5;21;01mbs4\u001B[39;00m \u001B[38;5;28;01mimport\u001B[39;00m BeautifulSoup\n\u001B[0;32m----> 2\u001B[0m \u001B[38;5;28;01mimport\u001B[39;00m \u001B[38;5;21;01mdocx\u001B[39;00m\n\u001B[1;32m      4\u001B[0m \u001B[38;5;66;03m# Open the Word document\u001B[39;00m\n\u001B[1;32m      5\u001B[0m doc \u001B[38;5;241m=\u001B[39m docx\u001B[38;5;241m.\u001B[39mDocument(\u001B[38;5;124m'\u001B[39m\u001B[38;5;124m/Users/jialong/Library/CloudStorage/OneDrive-Personal/CSC3064-Report.docx\u001B[39m\u001B[38;5;124m'\u001B[39m)\n",
      "\u001B[0;31mModuleNotFoundError\u001B[0m: No module named 'docx'"
     ]
    }
   ],
   "source": [
    "from bs4 import BeautifulSoup\n",
    "import docx\n",
    "\n",
    "# Open the Word document\n",
    "doc = docx.Document('/Users/jialong/Library/CloudStorage/OneDrive-Personal/CSC3064-Report.docx')\n",
    "\n",
    "# Convert the document content to XHTML\n",
    "html_content = ''\n",
    "for paragraph in doc.paragraphs:\n",
    "    html_content += str(paragraph._element.xml)\n",
    "soup = BeautifulSoup(html_content, 'html.parser')\n",
    "xhtml_content = soup.prettify()\n",
    "xhtml_content"
   ]
  },
  {
   "cell_type": "code",
   "execution_count": null,
   "outputs": [],
   "source": [],
   "metadata": {
    "collapsed": false
   }
  }
 ],
 "metadata": {
  "kernelspec": {
   "display_name": "Python 3",
   "language": "python",
   "name": "python3"
  },
  "language_info": {
   "codemirror_mode": {
    "name": "ipython",
    "version": 2
   },
   "file_extension": ".py",
   "mimetype": "text/x-python",
   "name": "python",
   "nbconvert_exporter": "python",
   "pygments_lexer": "ipython2",
   "version": "2.7.6"
  }
 },
 "nbformat": 4,
 "nbformat_minor": 0
}
